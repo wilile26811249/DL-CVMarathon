{
 "cells": [
  {
   "cell_type": "code",
   "execution_count": 6,
   "metadata": {},
   "outputs": [],
   "source": [
    "import cv2\n",
    "import numpy as np\n",
    "img_path = 'C:/Users/wilil/Desktop/DL-CVMarathon/data/lena.png'\n",
    "\n",
    "# Load image by IMREAD_COLOR flag\n",
    "# img = cv2.imread(img_path, 1)\n",
    "img = cv2.imread(img_path, cv2.IMREAD_COLOR)\n",
    "\n",
    "# Convert to HSV\n",
    "img_hsv = cv2.cvtColor(img, cv2.COLOR_BGR2HSV)\n",
    "\n",
    "# Convert to HSL\n",
    "img_hsl = cv2.cvtColor(img, cv2.COLOR_BGR2HLS)\n",
    "\n",
    "# Convert to LAB\n",
    "img_lab = cv2.cvtColor(img, cv2.COLOR_BGR2LAB)\n",
    "\n",
    "\n",
    "while True:\n",
    "    cv2.imshow('rgb', img)\n",
    "    cv2.imshow('img_hsv', img_hsv)\n",
    "    cv2.imshow('img_hsl', img_hsl)\n",
    "    cv2.imshow('img_lab', img_lab)\n",
    "\n",
    "    # The window will not close automatically until the ESC key is pressed to end the program\n",
    "    k = cv2.waitKey(0)\n",
    "    if k == 27:\n",
    "        cv2.destroyAllWindows()\n",
    "        break"
   ]
  },
  {
   "cell_type": "code",
   "execution_count": null,
   "metadata": {},
   "outputs": [],
   "source": []
  }
 ],
 "metadata": {
  "kernelspec": {
   "display_name": "Python 3",
   "language": "python",
   "name": "python3"
  },
  "language_info": {
   "codemirror_mode": {
    "name": "ipython",
    "version": 3
   },
   "file_extension": ".py",
   "mimetype": "text/x-python",
   "name": "python",
   "nbconvert_exporter": "python",
   "pygments_lexer": "ipython3",
   "version": "3.6.6"
  }
 },
 "nbformat": 4,
 "nbformat_minor": 2
}
